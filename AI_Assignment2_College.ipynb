{
  "nbformat": 4,
  "nbformat_minor": 0,
  "metadata": {
    "colab": {
      "provenance": [],
      "authorship_tag": "ABX9TyOfiyKGGn9vToxWUWNEyuTN",
      "include_colab_link": true
    },
    "kernelspec": {
      "name": "python3",
      "display_name": "Python 3"
    },
    "language_info": {
      "name": "python"
    }
  },
  "cells": [
    {
      "cell_type": "markdown",
      "metadata": {
        "id": "view-in-github",
        "colab_type": "text"
      },
      "source": [
        "<a href=\"https://colab.research.google.com/github/Surya-0007/AI-Assignment2-College/blob/main/AI_Assignment2_College.ipynb\" target=\"_parent\"><img src=\"https://colab.research.google.com/assets/colab-badge.svg\" alt=\"Open In Colab\"/></a>"
      ]
    },
    {
      "cell_type": "markdown",
      "source": [
        "**Q1. For the given tree below, write Python code to find the tree traverse and path from start node (1) to goal node (8) using breadth first search (BFS) and depth first search (DFS).**"
      ],
      "metadata": {
        "id": "h30xMaFqwLSE"
      }
    },
    {
      "cell_type": "code",
      "execution_count": 20,
      "metadata": {
        "colab": {
          "base_uri": "https://localhost:8080/"
        },
        "id": "h11r_vhtwGeQ",
        "outputId": "d82e4706-f991-4950-87bb-af64be124056"
      },
      "outputs": [
        {
          "output_type": "stream",
          "name": "stdout",
          "text": [
            "1 2 3 4 5 6 7 8 \n"
          ]
        }
      ],
      "source": [
        "# -----------BFS-----------\n",
        "graph1 = {\n",
        "    '1' : ['2','3','4'],\n",
        "    '2' : ['5','6'],\n",
        "    '3' : [],\n",
        "    '4' : ['7','8'],\n",
        "    '5' : ['9','10'],\n",
        "    '6' : [],\n",
        "    '7' : ['11','12'],\n",
        "    '8' : [],\n",
        "    '9' : [],\n",
        "    '10': [],\n",
        "    '11': [],\n",
        "    '12': [],\n",
        "}\n",
        "def bfs(node,result,graph):\n",
        "    visited = []\n",
        "    queue = []\n",
        "    visited.append(node)\n",
        "    queue.append(node)\n",
        "    while queue:\n",
        "        v = queue.pop(0)\n",
        "        print(v, end=\" \")\n",
        "        if v == '8':\n",
        "          print('')\n",
        "          break\n",
        "        for neigh in graph[v]:\n",
        "            if (neigh not in visited):\n",
        "                visited.append(neigh)\n",
        "                queue.append(neigh)\n",
        "        # visited.append(neigh)\n",
        "\n",
        "bfs('1','8',graph1)"
      ]
    },
    {
      "cell_type": "code",
      "source": [
        "# -----------DFS-----------\n",
        "graph1 = {\n",
        "    '1' : ['2','3','4'],\n",
        "    '2' : ['5','6'],\n",
        "    '3' : [],\n",
        "    '4' : ['7','8'],\n",
        "    '5' : ['9','10'],\n",
        "    '6' : [],\n",
        "    '7' : ['11','12'],\n",
        "    '8' : [],\n",
        "    '9' : [],\n",
        "    '10' : [],\n",
        "    '11' : [],\n",
        "    '12' : [],\n",
        "}\n",
        "def dfs(graph, node, visited, goal):\n",
        "    if node == goal:\n",
        "        visited.append(node)\n",
        "        return visited\n",
        "\n",
        "    if node not in visited:\n",
        "        visited.append(node)\n",
        "        for i in graph[node]:\n",
        "            if i == goal:\n",
        "                visited.append(i)\n",
        "                return visited\n",
        "            dfs(graph, i, visited, goal)\n",
        "\n",
        "    return visited\n",
        "\n",
        "visited = dfs(graph1, '1', [], '8')\n",
        "print(visited)\n"
      ],
      "metadata": {
        "colab": {
          "base_uri": "https://localhost:8080/"
        },
        "id": "Pp_VloUswVnR",
        "outputId": "c929ae77-85ef-45df-ee53-d39a3e706f41"
      },
      "execution_count": 21,
      "outputs": [
        {
          "output_type": "stream",
          "name": "stdout",
          "text": [
            "['1', '2', '5', '9', '10', '6', '3', '4', '7', '11', '12', '8']\n"
          ]
        }
      ]
    },
    {
      "cell_type": "markdown",
      "source": [
        "**Q2. For the given graph below, write the Python code to find the lowest path from start node (V1) to goal node (V6) using uniform cost search.**"
      ],
      "metadata": {
        "id": "6XhOuhcTwYmO"
      }
    },
    {
      "cell_type": "code",
      "source": [
        "import heapq\n",
        "\n",
        "def ucs(graph, start, goal):\n",
        "    visited = set()\n",
        "    queue = [(0, start, [])]\n",
        "\n",
        "    while queue:\n",
        "        cost, node, path = heapq.heappop(queue)\n",
        "\n",
        "        if node in visited:\n",
        "            continue\n",
        "\n",
        "        path = path + [node]\n",
        "\n",
        "        if node == goal:\n",
        "            return (path,cost)\n",
        "\n",
        "        visited.add(node)\n",
        "\n",
        "        for neighbor, edge_cost in graph[node].items():\n",
        "            if neighbor not in visited:\n",
        "                heapq.heappush(queue, (cost + edge_cost, neighbor, path))\n",
        "    return None\n",
        "graph = {\n",
        "    'V1': {'V2': 9, 'V3': 4},\n",
        "    'V2': {'V4': 7,'V5': 3, 'V3': 2},\n",
        "    'V3': {'V4': 1,'V5': 6},\n",
        "    'V4': {'V5': 4,'V6': 8},\n",
        "    'V5': {'V6': 2},\n",
        "    'V6': {}\n",
        "}\n",
        "start_node = 'V1'\n",
        "goal_node = 'V6'\n",
        "result = ucs(graph, start_node, goal_node)\n",
        "print(\"The lowest path and its overall cost is --->\",result)\n"
      ],
      "metadata": {
        "colab": {
          "base_uri": "https://localhost:8080/"
        },
        "id": "Y3Clalamwmbx",
        "outputId": "6cc3cd4a-0dd6-4095-a5e5-ff885061b76c"
      },
      "execution_count": 22,
      "outputs": [
        {
          "output_type": "stream",
          "name": "stdout",
          "text": [
            "The lowest path and its overall cost is ---> (['V1', 'V3', 'V4', 'V5', 'V6'], 11)\n"
          ]
        }
      ]
    }
  ]
}